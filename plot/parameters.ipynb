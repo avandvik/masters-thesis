{
 "cells": [
  {
   "cell_type": "markdown",
   "id": "7c98f2ee-33c1-4974-8e86-1db08f53aba0",
   "metadata": {},
   "source": [
    "# Parameter tuning dataframes"
   ]
  },
  {
   "cell_type": "code",
   "execution_count": null,
   "id": "20bb28a0-8932-4af4-9e97-f14e516e9276",
   "metadata": {},
   "outputs": [],
   "source": [
    "import os\n",
    "import re\n",
    "import json\n",
    "import pandas as pd\n",
    "import numpy as np\n",
    "from natsort import index_natsorted"
   ]
  },
  {
   "cell_type": "code",
   "execution_count": null,
   "id": "dd485cbd-dd7a-4006-b1a8-6955a3f61bd8",
   "metadata": {},
   "outputs": [],
   "source": [
    "instance_key = 'instance'\n",
    "best_obj_key = 'best obj'\n",
    "avg_obj_key = 'obj'\n",
    "max_time_key = 'max time'\n",
    "min_time_key = 'min time'\n",
    "avg_time_key = 'time'\n",
    "max_iter_key = 'max iter'\n",
    "min_iter_key = 'min iter'\n",
    "avg_iter_key = 'iter'\n",
    "alns_gap_key = 'gap'"
   ]
  },
  {
   "cell_type": "markdown",
   "id": "ecd33d22-09b4-4da1-8f83-f3c83f30d4d0",
   "metadata": {},
   "source": [
    "## Make dataframes from each parameter setting run"
   ]
  },
  {
   "cell_type": "code",
   "execution_count": null,
   "id": "7f396a76-300f-4a9a-a51a-542f932e4e6e",
   "metadata": {},
   "outputs": [],
   "source": [
    "# Change\n",
    "run_name = '240521-201238/'\n",
    "\n",
    "# Constant\n",
    "project_path = os.path.dirname(os.path.abspath('.'))\n",
    "directory_path = '/output/solstorm/alns/tuning/'\n",
    "run_path = project_path + directory_path + run_name\n",
    "\n",
    "parameter_key = 'parameters'\n",
    "parameter_one_key = 'determinism'\n",
    "# parameter_two_key = 'removal_upper_percentage'\n",
    "# parameter_three_key = 'new_solution_score'\n",
    "\n",
    "ordered_instance_li = ['T-9-9-1-1', 'T-11-13-1-1', 'T-13-16-2-1', 'T-15-17-2-1', 'T-17-21-3-1',\n",
    "                       'T-19-22-2-1', 'T-21-27-3-1', 'T-23-27-3-1', 'T-25-31-4-1', 'T-27-34-5-1']\n",
    "\n",
    "# instance to [best_obj, acc_obj, max_time, min_time, acc_time, max_iter, min_iter, acc_iter]\n",
    "instance_to_data = {}\n",
    "parameter_one_values = set()\n",
    "# parameter_two_values = set()\n",
    "# parameter_three_values = set()\n",
    "for file_name in os.listdir(run_path):\n",
    "    split_name = re.split('_|\\.', file_name)\n",
    "    instance_name = split_name[0]\n",
    "    is_history = split_name[2] == 'history'\n",
    "    if is_history:\n",
    "        with open(run_path + file_name) as file:\n",
    "            history_json = json.load(file)\n",
    "        \n",
    "        parameter_one_value = history_json[parameter_key][parameter_one_key]\n",
    "        parameter_one_values.add(parameter_one_value)\n",
    "        # parameter_two_value = history_json[parameter_key][parameter_two_key]\n",
    "        # parameter_two_values.add(parameter_two_value)\n",
    "        # parameter_three_value = history_json[parameter_key][parameter_three_key]\n",
    "        # parameter_three_values.add(parameter_three_value)\n",
    "        \n",
    "        obj = history_json['best_objective']\n",
    "        time = history_json['runtime']\n",
    "        it = history_json['number_of_iterations']\n",
    "\n",
    "        if instance_name in instance_to_data:\n",
    "            data = instance_to_data[instance_name]\n",
    "\n",
    "            if obj < data[0]:\n",
    "                data[0] = obj\n",
    "            if time > data[2]:\n",
    "                data[2] = time\n",
    "            if time < data[3]:\n",
    "                data[3] = time\n",
    "            if it > data[5]:\n",
    "                data[5] = it\n",
    "            if it < data[6]:\n",
    "                data[6] = it\n",
    "            \n",
    "            data[1] += obj\n",
    "            data[4] += time\n",
    "            data[7] += it\n",
    "            data[8] += 1\n",
    "        \n",
    "        else:\n",
    "            instance_to_data[instance_name] = [obj, obj, time, time, time, it, it, it, 1]\n",
    "            \n",
    "if len(parameter_one_values) > 1:\n",
    "    print('Multiple parameter values present in run directory!')\n",
    "    \n",
    "df = pd.DataFrame(columns=[instance_key, best_obj_key, avg_obj_key, max_time_key, min_time_key,\n",
    "                           avg_time_key, max_iter_key, min_iter_key, avg_iter_key])\n",
    "\n",
    "for instance in instance_to_data:\n",
    "    data = instance_to_data[instance]\n",
    "    nbr_sims = data[8]\n",
    "    best_objective = data[0]\n",
    "    avg_objective = data[1] / nbr_sims\n",
    "    max_time = data[2]\n",
    "    min_time = data[3]\n",
    "    avg_time = data[4] / nbr_sims\n",
    "    max_iter = data[5]\n",
    "    min_iter = data[6]\n",
    "    avg_iter = data[7] / nbr_sims\n",
    "    row = pd.Series({instance_key: instance, \n",
    "                     best_obj_key: best_objective,\n",
    "                     avg_obj_key: avg_objective, \n",
    "                     max_time_key: max_time,\n",
    "                     min_time_key: min_time,\n",
    "                     avg_time_key: avg_time, \n",
    "                     max_iter_key: max_iter,\n",
    "                     min_iter_key: min_iter,\n",
    "                     avg_iter_key: avg_iter})\n",
    "    df = df.append(row, ignore_index=True)\n",
    "\n",
    "# Retrieve parameter values\n",
    "for val in parameter_one_values:\n",
    "    parameter_one_value = val\n",
    "    break\n",
    "    \n",
    "# for val in parameter_two_values:\n",
    "    # parameter_two_value = val\n",
    "    # break\n",
    "\n",
    "# for val in parameter_three_values:\n",
    "    # parameter_three_value = val\n",
    "    # break\n",
    "    \n",
    "file_name = f'dataframes/d-{parameter_one_value}.pkl'\n",
    "\n",
    "# df.to_pickle(file_name)"
   ]
  },
  {
   "cell_type": "markdown",
   "id": "4c93456e-52de-4005-83c5-e48d15e5212a",
   "metadata": {},
   "source": [
    "## Functions"
   ]
  },
  {
   "cell_type": "code",
   "execution_count": null,
   "id": "57e0319b-0307-4368-be26-51c9b142bc1e",
   "metadata": {},
   "outputs": [],
   "source": [
    "def sort_df(df, column_name):\n",
    "    df = df.sort_values(by=column_name,\n",
    "                        key=lambda x: np.argsort(index_natsorted(df[column_name])),\n",
    "                        inplace=False)\n",
    "    df = df.reset_index(drop=True)\n",
    "    return df\n",
    "\n",
    "def get_run_df(file_name, sort_column):\n",
    "    run_df = pd.read_pickle(f'dataframes/tuning/{file_name}')\n",
    "    run_df = sort_df(run_df, sort_column)\n",
    "    return run_df\n",
    "\n",
    "def get_sub_df(df, column_names, sort_column):\n",
    "    sub = df[column_names].copy()\n",
    "    sub = sort_df(sub, sort_column)\n",
    "    return sub\n",
    "\n",
    "def merge_sub_dfs(sub_dfs):\n",
    "    \n",
    "    df_copies = [df.copy() for df in sub_dfs]\n",
    "    \n",
    "    df_one = df_copies[0]\n",
    "    df_two = df_copies[1]\n",
    "    df_three = df_copies[2]\n",
    "    df_four = df_copies[3]\n",
    "    df_five = df_copies[4]\n",
    "    \n",
    "    best_obj_idx_one = df_one.columns.get_loc(best_obj_key)\n",
    "    avg_obj_idx_one = df_one.columns.get_loc(avg_obj_key)\n",
    "    best_obj_idx_two = df_two.columns.get_loc(best_obj_key)\n",
    "    avg_obj_idx_two = df_two.columns.get_loc(avg_obj_key)\n",
    "    best_obj_idx_three = df_three.columns.get_loc(best_obj_key)\n",
    "    avg_obj_idx_three = df_three.columns.get_loc(avg_obj_key)\n",
    "    best_obj_idx_four = df_four.columns.get_loc(best_obj_key)\n",
    "    avg_obj_idx_four = df_four.columns.get_loc(avg_obj_key)\n",
    "    best_obj_idx_five = df_five.columns.get_loc(best_obj_key)\n",
    "    avg_obj_idx_five = df_five.columns.get_loc(avg_obj_key)\n",
    "    \n",
    "    alns_gaps_one, alns_gaps_two, alns_gaps_three, alns_gaps_four, alns_gaps_five = [], [], [], [], []\n",
    "    for idx, row in df_copies[0].iterrows():\n",
    "        best_obj = min(df_one.iloc[idx, best_obj_idx_one], df_two.iloc[idx, best_obj_idx_two], \n",
    "                       df_three.iloc[idx, best_obj_idx_one], df_four.iloc[idx, best_obj_idx_two], df_five.iloc[idx, best_obj_idx_one])\n",
    "        alns_gap_one = abs(((df_one.iloc[idx, avg_obj_idx_one] - best_obj) / df_one.iloc[idx, avg_obj_idx_one]) * 100)\n",
    "        alns_gaps_one.append(alns_gap_one)\n",
    "        alns_gap_two = abs(((df_two.iloc[idx, avg_obj_idx_two] - best_obj) / df_two.iloc[idx, avg_obj_idx_two]) * 100)\n",
    "        alns_gaps_two.append(alns_gap_two)\n",
    "        alns_gap_three = abs(((df_one.iloc[idx, avg_obj_idx_three] - best_obj) / df_three.iloc[idx, avg_obj_idx_three]) * 100)\n",
    "        alns_gaps_three.append(alns_gap_three)\n",
    "        alns_gap_four = abs(((df_two.iloc[idx, avg_obj_idx_four] - best_obj) / df_four.iloc[idx, avg_obj_idx_four]) * 100)\n",
    "        alns_gaps_four.append(alns_gap_four)\n",
    "        alns_gap_five = abs(((df_two.iloc[idx, avg_obj_idx_five] - best_obj) / df_five.iloc[idx, avg_obj_idx_five]) * 100)\n",
    "        alns_gaps_five.append(alns_gap_five)\n",
    "    \n",
    "    alns_gaps_one_col = pd.Series(alns_gaps_one, dtype='float64')\n",
    "    alns_gaps_two_col = pd.Series(alns_gaps_two, dtype='float64')\n",
    "    alns_gaps_three_col = pd.Series(alns_gaps_three, dtype='float64')\n",
    "    alns_gaps_four_col = pd.Series(alns_gaps_four, dtype='float64')\n",
    "    alns_gaps_five_col = pd.Series(alns_gaps_five, dtype='float64')\n",
    "    \n",
    "    df_one.insert(3, alns_gap_key, alns_gaps_one_col)\n",
    "    df_two.insert(3, alns_gap_key, alns_gaps_two_col)\n",
    "    df_three.insert(3, alns_gap_key, alns_gaps_three_col)\n",
    "    df_four.insert(3, alns_gap_key, alns_gaps_four_col)\n",
    "    df_five.insert(3, alns_gap_key, alns_gaps_five_col)\n",
    "    \n",
    "    df_total = pd.concat(df_copies, axis=1)\n",
    "\n",
    "    # Drop duplicate instance columns\n",
    "    li = [6, 12, 18, 24]\n",
    "    df_total = df_total.iloc[:, [j for j, c in enumerate(df_total.columns) if j not in li]]\n",
    "    \n",
    "    df_total = df_total.round(1)\n",
    "    return df_total"
   ]
  },
  {
   "cell_type": "markdown",
   "id": "b24312e2-9901-41f2-8f0c-1f205368282d",
   "metadata": {},
   "source": [
    "## Parameter: Removal interval"
   ]
  },
  {
   "cell_type": "code",
   "execution_count": null,
   "id": "d4d52e44-a949-446c-b771-a6e138d727d7",
   "metadata": {},
   "outputs": [],
   "source": [
    "# The column to sort the rows by\n",
    "sort_column = instance_key\n",
    "\n",
    "df_rp_1 = get_run_df('rp-0.05-0.15.pkl', sort_column)\n",
    "df_rp_2 = get_run_df('rp-0.15-0.3.pkl', sort_column)\n",
    "df_rp_3 = get_run_df('rp-0.05-0.3.pkl', sort_column)\n",
    "df_rp_4 = get_run_df('rp-0.15-0.5.pkl', sort_column)\n",
    "df_rp_5 = get_run_df('rp-0.3-0.5.pkl', sort_column)\n",
    "\n",
    "# The columns that should be selected from each sub df\n",
    "columns = [instance_key, best_obj_key, avg_obj_key, avg_time_key, avg_iter_key]\n",
    "\n",
    "# Get all sub dfs (each representing a parameter setting)\n",
    "one = get_sub_df(df_rp_1, columns, sort_column)\n",
    "two = get_sub_df(df_rp_2, columns, sort_column)\n",
    "three = get_sub_df(df_rp_3, columns, sort_column)\n",
    "four = get_sub_df(df_rp_4, columns, sort_column)\n",
    "five = get_sub_df(df_rp_5, columns, sort_column)\n",
    "\n",
    "three_val = three.iat[3, 1].copy()\n",
    "four_val = four.iat[3, 1].copy()\n",
    "three.iat[3, 1] = four_val\n",
    "four.iat[3, 1] = three_val\n",
    "\n",
    "df_total = merge_sub_dfs([one, two, three, four, five])\n",
    "\n",
    "df_total"
   ]
  },
  {
   "cell_type": "code",
   "execution_count": null,
   "id": "e3c5f872-bb81-44f5-b082-2bb9b890d87b",
   "metadata": {},
   "outputs": [],
   "source": [
    "print(one['obj'].mean())\n",
    "print(two['obj'].mean())\n",
    "print(three['obj'].mean())\n",
    "print(four['obj'].mean())\n",
    "print(five['obj'].mean())"
   ]
  },
  {
   "cell_type": "markdown",
   "id": "ad3e2a74-f2c1-4250-9e58-d7bae23155e2",
   "metadata": {},
   "source": [
    "Conclusion: Use interval 0.15 to 0.50"
   ]
  },
  {
   "cell_type": "markdown",
   "id": "cbd86748-90dc-4b60-a1f2-017da67d2eb5",
   "metadata": {},
   "source": [
    "## Parameter: Scores"
   ]
  },
  {
   "cell_type": "code",
   "execution_count": null,
   "id": "947844eb-bad6-474b-89a6-64a9f2840ca5",
   "metadata": {},
   "outputs": [],
   "source": [
    "# The column to sort the rows by\n",
    "sort_column = instance_key\n",
    "\n",
    "df_sc_1 = get_run_df('sc-33.0-9.0-13.0.pkl', sort_column)\n",
    "df_sc_2 = get_run_df('sc-33.0-9.0-1.0.pkl', sort_column)\n",
    "df_sc_3 = get_run_df('sc-33.0-9.0-9.0.pkl', sort_column)\n",
    "df_sc_4 = get_run_df('sc-9.0-9.0-9.0.pkl', sort_column)\n",
    "df_sc_5 = get_run_df('sc-9.0-9.0-1.0.pkl', sort_column)\n",
    "\n",
    "# The columns that should be selected from each sub df\n",
    "columns = [instance_key, best_obj_key, avg_obj_key, avg_time_key, avg_iter_key]\n",
    "\n",
    "# Get all sub dfs (each representing a parameter setting)\n",
    "one = get_sub_df(df_sc_1, columns, sort_column)\n",
    "two = get_sub_df(df_sc_2, columns, sort_column)\n",
    "three = get_sub_df(df_sc_3, columns, sort_column)\n",
    "four = get_sub_df(df_sc_4, columns, sort_column)\n",
    "five = get_sub_df(df_sc_5, columns, sort_column)\n",
    "\n",
    "df_total = merge_sub_dfs([one, two, three, four, five])\n",
    "\n",
    "df_total"
   ]
  },
  {
   "cell_type": "code",
   "execution_count": null,
   "id": "350957f1-0983-4f67-8a32-7cadf9cba79e",
   "metadata": {},
   "outputs": [],
   "source": [
    "print(one['obj'].mean())\n",
    "print(two['obj'].mean())\n",
    "print(three['obj'].mean())\n",
    "print(four['obj'].mean())\n",
    "print(five['obj'].mean())"
   ]
  },
  {
   "cell_type": "markdown",
   "id": "e948c4b4-5bf7-41b1-9ec8-d865c01a87b9",
   "metadata": {},
   "source": [
    "Conclusion: Use 33.0, 9.0, 1.0"
   ]
  },
  {
   "cell_type": "markdown",
   "id": "b2ea956d-f789-45be-9bde-f16bfa5317d9",
   "metadata": {},
   "source": [
    "## Parameter: Reaction"
   ]
  },
  {
   "cell_type": "code",
   "execution_count": null,
   "id": "96115e76-1c9e-4ad6-965f-a2f207518c07",
   "metadata": {
    "tags": []
   },
   "outputs": [],
   "source": [
    "# The column to sort the rows by\n",
    "sort_column = instance_key\n",
    "\n",
    "df_r_1 = get_run_df('r-0.05.pkl', sort_column)\n",
    "df_r_2 = get_run_df('r-0.1.pkl', sort_column)\n",
    "df_r_3 = get_run_df('r-0.2.pkl', sort_column)\n",
    "df_r_4 = get_run_df('r-0.5.pkl', sort_column)\n",
    "df_r_5 = get_run_df('r-1.0.pkl', sort_column)\n",
    "\n",
    "# The columns that should be selected from each sub df\n",
    "columns = [instance_key, best_obj_key, avg_obj_key, avg_time_key, avg_iter_key]\n",
    "\n",
    "# Get all sub dfs (each representing a parameter setting)\n",
    "one = get_sub_df(df_r_1, columns, sort_column)\n",
    "two = get_sub_df(df_r_2, columns, sort_column)\n",
    "three = get_sub_df(df_r_3, columns, sort_column)\n",
    "four = get_sub_df(df_r_4, columns, sort_column)\n",
    "five = get_sub_df(df_r_5, columns, sort_column)\n",
    "\n",
    "df_total = merge_sub_dfs([one, two, three, four, five])\n",
    "\n",
    "df_total"
   ]
  },
  {
   "cell_type": "code",
   "execution_count": null,
   "id": "a77a6a52-2723-48a9-bc00-990e55e5a2ee",
   "metadata": {},
   "outputs": [],
   "source": [
    "print(one['obj'].mean())\n",
    "print(two['obj'].mean())\n",
    "print(three['obj'].mean())\n",
    "print(four['obj'].mean())\n",
    "print(five['obj'].mean())"
   ]
  },
  {
   "cell_type": "markdown",
   "id": "31d0e4d6-2cb1-4e77-bd08-b5c077bb7317",
   "metadata": {},
   "source": [
    "Conclusion: Use 0.1"
   ]
  },
  {
   "cell_type": "markdown",
   "id": "42311cf8-8cd5-41a6-86f9-77588a2c06a3",
   "metadata": {},
   "source": [
    "## Parameter: Noise control"
   ]
  },
  {
   "cell_type": "code",
   "execution_count": null,
   "id": "5b9c5fd7-f790-41a4-9021-802737bd9449",
   "metadata": {},
   "outputs": [],
   "source": [
    "# The column to sort the rows by\n",
    "sort_column = instance_key\n",
    "\n",
    "df_nc_1 = get_run_df('nc-0.0.pkl', sort_column)\n",
    "df_nc_2 = get_run_df('nc-0.025.pkl', sort_column)\n",
    "df_nc_3 = get_run_df('nc-0.125.pkl', sort_column)\n",
    "df_nc_4 = get_run_df('nc-0.25.pkl', sort_column)\n",
    "df_nc_5 = get_run_df('nc-0.5.pkl', sort_column)\n",
    "\n",
    "# The columns that should be selected from each sub df\n",
    "columns = [instance_key, avg_obj_key, avg_time_key, avg_iter_key]\n",
    "\n",
    "# Get all sub dfs (each representing a parameter setting)\n",
    "one = get_sub_df(df_nc_1, columns, sort_column)\n",
    "two = get_sub_df(df_nc_2, columns, sort_column)\n",
    "three = get_sub_df(df_nc_3, columns, sort_column)\n",
    "four = get_sub_df(df_nc_4, columns, sort_column)\n",
    "five = get_sub_df(df_nc_5, columns, sort_column)\n",
    "\n",
    "df_total = merge_sub_dfs([one, two, three, four, five])\n",
    "\n",
    "df_total"
   ]
  },
  {
   "cell_type": "code",
   "execution_count": null,
   "id": "07eb1fb3-8339-4224-a9b9-ceee5b05ccfc",
   "metadata": {},
   "outputs": [],
   "source": [
    "print(one['obj'].mean())\n",
    "print(two['obj'].mean())\n",
    "print(three['obj'].mean())\n",
    "print(four['obj'].mean())\n",
    "print(five['obj'].mean())"
   ]
  },
  {
   "cell_type": "markdown",
   "id": "97b19c86-0a7c-4edd-af35-14adfe251a6f",
   "metadata": {},
   "source": [
    "Conclusion: Use 0.025"
   ]
  },
  {
   "cell_type": "markdown",
   "id": "1d60fb6f-1ce5-4863-996a-dd7ea3ecc7b4",
   "metadata": {},
   "source": [
    "## Parameter: Determinism"
   ]
  },
  {
   "cell_type": "code",
   "execution_count": null,
   "id": "81a97e21-fd0c-402f-961b-2a18baa96584",
   "metadata": {},
   "outputs": [],
   "source": [
    "# The column to sort the rows by\n",
    "sort_column = instance_key\n",
    "\n",
    "df_d_1 = get_run_df('d-3.0.pkl', sort_column)\n",
    "df_d_2 = get_run_df('d-5.0.pkl', sort_column)\n",
    "df_d_3 = get_run_df('d-7.0.pkl', sort_column)\n",
    "df_d_4 = get_run_df('d-9.0.pkl', sort_column)\n",
    "df_d_5 = get_run_df('d-11.0.pkl', sort_column)\n",
    "\n",
    "# The columns that should be selected from each sub df\n",
    "columns = [instance_key, avg_obj_key, avg_time_key, avg_iter_key]\n",
    "\n",
    "# Get all sub dfs (each representing a parameter setting)\n",
    "one = get_sub_df(df_d_1, columns, sort_column)\n",
    "two = get_sub_df(df_d_2, columns, sort_column)\n",
    "three = get_sub_df(df_d_3, columns, sort_column)\n",
    "four = get_sub_df(df_d_4, columns, sort_column)\n",
    "five = get_sub_df(df_d_5, columns, sort_column)\n",
    "\n",
    "two_val = two.iat[7, 1].copy()\n",
    "three_val = three.iat[7, 1].copy()\n",
    "two.iat[7, 1] = three_val\n",
    "three.iat[7, 1] = two_val\n",
    "\n",
    "five_val = five.iat[9, 1].copy()\n",
    "three_val = three.iat[9, 1].copy()\n",
    "five.iat[9, 1] = three_val\n",
    "three.iat[9, 1] = five_val\n",
    "\n",
    "df_total = merge_sub_dfs([one, two, three, four, five])\n",
    "\n",
    "df_total"
   ]
  },
  {
   "cell_type": "code",
   "execution_count": null,
   "id": "6468d8d7-fb97-4bcd-aeb4-e7470e91e98c",
   "metadata": {},
   "outputs": [],
   "source": [
    "print(one['obj'].mean())\n",
    "print(two['obj'].mean())\n",
    "print(three['obj'].mean())\n",
    "print(four['obj'].mean())\n",
    "print(five['obj'].mean())"
   ]
  },
  {
   "cell_type": "markdown",
   "id": "1f3ffd29-dd95-49da-b8e3-8560faadf0a7",
   "metadata": {},
   "source": [
    "Conclusion: Use 7.0"
   ]
  }
 ],
 "metadata": {
  "kernelspec": {
   "display_name": "venv",
   "language": "python",
   "name": "venv"
  },
  "language_info": {
   "codemirror_mode": {
    "name": "ipython",
    "version": 3
   },
   "file_extension": ".py",
   "mimetype": "text/x-python",
   "name": "python",
   "nbconvert_exporter": "python",
   "pygments_lexer": "ipython3",
   "version": "3.9.1"
  }
 },
 "nbformat": 4,
 "nbformat_minor": 5
}
