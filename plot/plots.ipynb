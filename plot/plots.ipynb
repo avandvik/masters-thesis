{
 "cells": [
  {
   "cell_type": "markdown",
   "id": "b7dfa187-82c0-42ae-a14f-300f6caf2eac",
   "metadata": {},
   "source": [
    "# Plots"
   ]
  },
  {
   "cell_type": "code",
   "execution_count": null,
   "id": "6878042d-bc8f-4d31-8b22-de745a31a32e",
   "metadata": {},
   "outputs": [],
   "source": [
    "import os\n",
    "import re\n",
    "import json\n",
    "import numpy as np\n",
    "import matplotlib.pyplot as plt\n",
    "from matplotlib.ticker import ScalarFormatter,AutoMinorLocator"
   ]
  },
  {
   "cell_type": "code",
   "execution_count": null,
   "id": "fb3c302b-7e52-4747-9d04-b6b8ab096f19",
   "metadata": {},
   "outputs": [],
   "source": [
    "# Change\n",
    "run_dir = 'convergence/'\n",
    "file_name = '23-31-4-1_682_history.json'\n",
    "split = re.split('_|\\.', file_name)\n",
    "instance_name = split[0]\n",
    "random_seed = split[1]\n",
    "\n",
    "# Constant\n",
    "project_path = os.path.dirname(os.path.abspath('.'))\n",
    "directory_path = '/output/solstorm/alns/plots/'\n",
    "file_path = project_path + directory_path + run_dir + file_name\n",
    "\n",
    "# Load file\n",
    "with open(file_path) as file:\n",
    "    history_json = json.load(file)"
   ]
  },
  {
   "cell_type": "code",
   "execution_count": null,
   "id": "2d508021-8fc1-4db8-95fa-b88e32a848e4",
   "metadata": {},
   "outputs": [],
   "source": [
    "def get_xy(heuristic_key):\n",
    "    iter_to_weight = history_json['heuristic_to_iteration_to_weight'][heuristic_key]\n",
    "    xy = [(int(k), v) for k, v in iter_to_weight.items()]\n",
    "    xy.sort()\n",
    "    x = [tup[0] for tup in xy]\n",
    "    y = [tup[1] for tup in xy]\n",
    "    return x, y"
   ]
  },
  {
   "cell_type": "markdown",
   "id": "1a0950a1-b8d1-4ce3-8635-003229687f2e",
   "metadata": {},
   "source": [
    "## Convergence"
   ]
  },
  {
   "cell_type": "code",
   "execution_count": null,
   "id": "eb61e66c-7f33-4ac8-ab20-bd3cc05d3ee3",
   "metadata": {},
   "outputs": [],
   "source": [
    "iter_to_obj = history_json['iteration_to_objective']\n",
    "\n",
    "xy = [(int(k), v) for k, v in iter_to_obj.items()]\n",
    "xy.sort()\n",
    "x = [tup[0] for tup in xy]\n",
    "y = [tup[1] for tup in xy]\n",
    "\n",
    "plt.style.use(project_path + '/plot/PaperDoubleFig.mplstyle')\n",
    "fig, ax = plt.subplots()\n",
    "ax.set_xlabel('Iteration')\n",
    "ax.set_ylabel('Objective Value')\n",
    "ax.yaxis.set_major_formatter(ScalarFormatter())\n",
    "ax.yaxis.major.formatter._useMathText = True\n",
    "ax.yaxis.set_minor_locator(AutoMinorLocator(5))\n",
    "ax.xaxis.set_minor_locator(AutoMinorLocator(5))\n",
    "plt.plot(x, y)\n",
    "plt.savefig(f'graphs/{instance_name}-{random_seed}_convergence.jpg', dpi=400)"
   ]
  },
  {
   "cell_type": "markdown",
   "id": "40b87193-6929-44b2-9509-b746e47c3189",
   "metadata": {},
   "source": [
    "## Weights"
   ]
  },
  {
   "cell_type": "code",
   "execution_count": null,
   "id": "1034986e-eae6-456c-bcb2-94bde9cae8dc",
   "metadata": {},
   "outputs": [],
   "source": [
    "random_removal_key = 'random_removal'\n",
    "related_removal_key = 'related_removal'\n",
    "worst_removal_key = 'worst_removal'\n",
    "spot_removal_key = 'spot_removal'\n",
    "spread_removal_key = 'spread_removal'\n",
    "cluster_removal_key = 'cluster_removal'\n",
    "greedy_insertion_key = 'greedy_insertion'\n",
    "regret_insertion_key = 'regret_insertion'\n",
    "max_penalty_cost_insertion_key = 'max_penalty_cost_insertion'\n",
    "max_order_size_insertion_key = 'max_order_size_insertion'\n",
    "\n",
    "random_removal_x, random_removal_y = get_xy(random_removal_key)\n",
    "related_removal_x, related_removal_y = get_xy(related_removal_key)\n",
    "worst_removal_x, worst_removal_y = get_xy(worst_removal_key)\n",
    "spot_removal_x, spot_removal_y = get_xy(spot_removal_key)\n",
    "spread_removal_x, spread_removal_y = get_xy(spread_removal_key)\n",
    "cluster_removal_x, cluster_removal_y = get_xy(cluster_removal_key)\n",
    "\n",
    "plt.style.use(project_path + '/plot/PaperDoubleFig.mplstyle')\n",
    "fig, ax = plt.subplots()\n",
    "ax.set_xlabel('Iteration')\n",
    "ax.set_ylabel('Weight')\n",
    "ax.yaxis.set_major_formatter(ScalarFormatter())\n",
    "ax.yaxis.major.formatter._useMathText = True\n",
    "ax.yaxis.set_minor_locator(AutoMinorLocator(5))\n",
    "ax.xaxis.set_minor_locator(AutoMinorLocator(5))\n",
    "# ax.locator_params(integer=True)\n",
    "plt.plot(random_removal_x, random_removal_y, label='Random')\n",
    "plt.plot(related_removal_x, related_removal_y, label='Related')\n",
    "plt.plot(worst_removal_x, worst_removal_y, label='Worst')\n",
    "plt.plot(spot_removal_x, spot_removal_y, label='Spot')\n",
    "plt.plot(spread_removal_x, spread_removal_y, label='Spread')\n",
    "plt.plot(cluster_removal_x, cluster_removal_y, label='Cluster')\n",
    "ax.legend(frameon=False, loc='best', ncol=1, handlelength=4)\n",
    "plt.savefig(f'graphs/{instance_name}-{random_seed}_weights_destroy.jpg', dpi=400)\n",
    "plt.show()"
   ]
  },
  {
   "cell_type": "code",
   "execution_count": null,
   "id": "31da83e1-582e-44f8-b302-a001179844b5",
   "metadata": {},
   "outputs": [],
   "source": [
    "greedy_insertion_x, greedy_insertion_y = get_xy(greedy_insertion_key)\n",
    "regret_insertion_x, regret_insertion_y = get_xy(regret_insertion_key)\n",
    "max_penalty_cost_insertion_x, max_penalty_cost_insertion_y = get_xy(max_penalty_cost_insertion_key)\n",
    "max_order_size_insertion_x, max_order_size_insertion_y = get_xy(max_order_size_insertion_key)\n",
    "\n",
    "plt.style.use(project_path + '/plot/PaperDoubleFig.mplstyle')\n",
    "fig, ax = plt.subplots()\n",
    "ax.set_xlabel('Iteration')\n",
    "ax.set_ylabel('Weight')\n",
    "ax.yaxis.set_major_formatter(ScalarFormatter())\n",
    "ax.yaxis.major.formatter._useMathText = True\n",
    "ax.yaxis.set_minor_locator(AutoMinorLocator(5))\n",
    "ax.xaxis.set_minor_locator(AutoMinorLocator(5))\n",
    "plt.plot(greedy_insertion_x, greedy_insertion_y, label='Greedy')\n",
    "plt.plot(regret_insertion_x, regret_insertion_y, label='Regret-3')\n",
    "plt.plot(max_penalty_cost_insertion_x, max_penalty_cost_insertion_y, label='Max penalty cost')\n",
    "plt.plot(max_order_size_insertion_x, max_order_size_insertion_y, label='Max order size')\n",
    "ax.legend(frameon=False, loc='best', ncol=1, handlelength=4)\n",
    "plt.savefig(f'graphs/{instance_name}-{random_seed}_weights_insertion.jpg', dpi=400)\n",
    "plt.show()"
   ]
  },
  {
   "cell_type": "code",
   "execution_count": null,
   "id": "8e6bd905-bd09-42cd-be4d-59b204cba08c",
   "metadata": {},
   "outputs": [],
   "source": []
  }
 ],
 "metadata": {
  "kernelspec": {
   "display_name": "venv",
   "language": "python",
   "name": "venv"
  },
  "language_info": {
   "codemirror_mode": {
    "name": "ipython",
    "version": 3
   },
   "file_extension": ".py",
   "mimetype": "text/x-python",
   "name": "python",
   "nbconvert_exporter": "python",
   "pygments_lexer": "ipython3",
   "version": "3.9.1"
  }
 },
 "nbformat": 4,
 "nbformat_minor": 5
}
