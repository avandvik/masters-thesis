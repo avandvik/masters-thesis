{
 "cells": [
  {
   "cell_type": "markdown",
   "id": "8e2c513f-dbc1-43ad-aba1-092213a779d9",
   "metadata": {},
   "source": [
    "# Speed optimization dataframe"
   ]
  },
  {
   "cell_type": "code",
   "execution_count": 2,
   "id": "e4ff564e-8851-4802-83d6-6b36bd20a041",
   "metadata": {},
   "outputs": [],
   "source": [
    "import os\n",
    "import re\n",
    "import json\n",
    "import math\n",
    "import pandas as pd\n",
    "pd.set_option('display.max_columns', None)\n",
    "pd.set_option('display.max_rows', None)\n",
    "import numpy as np\n",
    "from natsort import index_natsorted"
   ]
  },
  {
   "cell_type": "markdown",
   "id": "92283d5f-3f89-4432-bc70-74d930817f91",
   "metadata": {},
   "source": [
    "## General parameters"
   ]
  },
  {
   "cell_type": "code",
   "execution_count": 68,
   "id": "331b9239-643b-40c2-95a0-40670eddc45f",
   "metadata": {},
   "outputs": [],
   "source": [
    "project_path = os.path.dirname(os.path.abspath('.'))\n",
    "nso_path = f'{project_path}/output/solstorm/alns/managerial/speed_opt/nso/'\n",
    "so_path = f'{project_path}/output/solstorm/alns/managerial/speed_opt/so/'\n",
    "\n",
    "instance_key = 'instance'\n",
    "nso_p_key = 'nso (p)'\n",
    "so_p_key = 'so (p)'\n",
    "nso_m_key = 'nso (m)'\n",
    "so_m_key = 'so (m)'\n",
    "nso_c_key = 'nso (c)'\n",
    "so_c_key = 'so (c)'\n",
    "red_fc_p_key = 'cost red (p)'\n",
    "red_fc_m_key = 'cost red (m)'\n",
    "red_fc_c_key = 'cost red (c)'\n",
    "red_em_p_key = 'em red (p)'\n",
    "red_em_m_key = 'em red (m)'\n",
    "red_em_c_key = 'em red (c)'\n",
    "\n",
    "perfect_key = 'perfect'\n",
    "mixed_key = 'mixed'\n",
    "critical_key = 'critical'\n",
    "\n",
    "best_obj_key = 'best_objective'"
   ]
  },
  {
   "cell_type": "markdown",
   "id": "33c5e020-f8e9-4e91-8a22-158e07210709",
   "metadata": {},
   "source": [
    "## Functions"
   ]
  },
  {
   "cell_type": "code",
   "execution_count": 75,
   "id": "dc93344a-58da-4c1f-a37a-ea9769f3518c",
   "metadata": {},
   "outputs": [],
   "source": [
    "def generate_speed_opt_df(nso_path, so_path):\n",
    "    nso_data = map_instance_to_ws_to_obj(nso_path)\n",
    "    so_data = map_instance_to_ws_to_obj(so_path)\n",
    "    \n",
    "    df = pd.DataFrame(columns=[instance_key, \n",
    "                               nso_p_key, so_p_key, red_fc_p_key, red_em_p_key,\n",
    "                               nso_m_key, so_m_key, red_fc_m_key, red_em_p_key,\n",
    "                               nso_c_key, so_c_key, red_fc_c_key, red_em_p_key])\n",
    "    \n",
    "    \n",
    "    for instance_name in nso_data:\n",
    "        perfect_obj_nso = nso_data[instance_name][perfect_key]\n",
    "        perfect_obj_so = so_data[instance_name][perfect_key]\n",
    "        perfect_fc_red = abs(perfect_obj_so - perfect_obj_nso) / perfect_obj_nso\n",
    "        \n",
    "        mixed_obj_nso = nso_data[instance_name][mixed_key]\n",
    "        mixed_obj_so = so_data[instance_name][mixed_key]\n",
    "        mixed_fc_red = abs(mixed_obj_so - mixed_obj_nso) / mixed_obj_nso\n",
    "        \n",
    "        critical_obj_nso = nso_data[instance_name][critical_key]\n",
    "        critical_obj_so = so_data[instance_name][critical_key]\n",
    "        critical_fc_red = abs(critical_obj_so - critical_obj_nso) / critical_obj_nso\n",
    "        \n",
    "        row = pd.Series({instance_key: instance_name, \n",
    "                        nso_p_key: perfect_obj_nso, so_p_key: perfect_obj_so, red_fc_p_key: perfect_fc_red, \n",
    "                        nso_m_key: mixed_obj_nso, so_m_key: mixed_obj_so, red_fc_m_key: mixed_fc_red,\n",
    "                        nso_c_key: critical_obj_nso, so_c_key: critical_obj_so, red_fc_c_key: critical_fc_red})\n",
    "        \n",
    "        df = df.append(row, ignore_index=True)\n",
    "        \n",
    "    return df\n",
    "    \n",
    "def map_instance_to_ws_to_obj(path):\n",
    "    instance_to_ws_to_data = {}\n",
    "    for file_name in os.listdir(path):\n",
    "        split_name = re.split('_|\\.', file_name)\n",
    "        instance_name = split_name[0]\n",
    "        ws = split_name[1]\n",
    "        seed = split_name[2]\n",
    "        \n",
    "        with open(path + file_name) as file:\n",
    "            solution_json = json.load(file)\n",
    "        \n",
    "        obj = solution_json[best_obj_key]\n",
    "        \n",
    "        if instance_name in instance_to_ws_to_data:\n",
    "            if ws in instance_to_ws_to_data[instance_name]:\n",
    "                data = instance_to_ws_to_data[instance_name][ws]\n",
    "                data[0] += obj\n",
    "                data[1] += 1\n",
    "            else:\n",
    "                instance_to_ws_to_data[instance_name][ws] = [obj, 1]            \n",
    "        else:\n",
    "            instance_to_ws_to_data[instance_name] = {ws: [obj, 1]}\n",
    "    \n",
    "    instance_to_ws_to_obj = {}\n",
    "    for instance_name in instance_to_ws_to_data:\n",
    "        instance_to_ws_to_obj[instance_name] = {}\n",
    "        for ws in instance_to_ws_to_data[instance_name]:\n",
    "            data = instance_to_ws_to_data[instance_name][ws]\n",
    "            instance_to_ws_to_obj[instance_name][ws] = data[0] / data[1]\n",
    "            \n",
    "    return instance_to_ws_to_obj"
   ]
  },
  {
   "cell_type": "markdown",
   "id": "7d8c4692-da22-4d79-8b78-ec91e43d08aa",
   "metadata": {},
   "source": [
    "## Dataframe"
   ]
  },
  {
   "cell_type": "code",
   "execution_count": 76,
   "id": "bec872c5-9c7d-4141-9657-d01f4b5d38f9",
   "metadata": {},
   "outputs": [
    {
     "data": {
      "text/html": [
       "<div>\n",
       "<style scoped>\n",
       "    .dataframe tbody tr th:only-of-type {\n",
       "        vertical-align: middle;\n",
       "    }\n",
       "\n",
       "    .dataframe tbody tr th {\n",
       "        vertical-align: top;\n",
       "    }\n",
       "\n",
       "    .dataframe thead th {\n",
       "        text-align: right;\n",
       "    }\n",
       "</style>\n",
       "<table border=\"1\" class=\"dataframe\">\n",
       "  <thead>\n",
       "    <tr style=\"text-align: right;\">\n",
       "      <th></th>\n",
       "      <th>instance</th>\n",
       "      <th>nso (p)</th>\n",
       "      <th>so (p)</th>\n",
       "      <th>cost red (p)</th>\n",
       "      <th>em red (p)</th>\n",
       "      <th>nso (m)</th>\n",
       "      <th>so (m)</th>\n",
       "      <th>cost red (m)</th>\n",
       "      <th>em red (p)</th>\n",
       "      <th>nso (c)</th>\n",
       "      <th>so (c)</th>\n",
       "      <th>cost red (c)</th>\n",
       "      <th>em red (p)</th>\n",
       "    </tr>\n",
       "  </thead>\n",
       "  <tbody>\n",
       "    <tr>\n",
       "      <th>0</th>\n",
       "      <td>19-21-3-2</td>\n",
       "      <td>6541.752</td>\n",
       "      <td>4971.400486</td>\n",
       "      <td>0.240051</td>\n",
       "      <td>NaN</td>\n",
       "      <td>7664.4165</td>\n",
       "      <td>6062.907685</td>\n",
       "      <td>0.208954</td>\n",
       "      <td>NaN</td>\n",
       "      <td>5898.5823</td>\n",
       "      <td>4405.181705</td>\n",
       "      <td>0.25318</td>\n",
       "      <td>NaN</td>\n",
       "    </tr>\n",
       "  </tbody>\n",
       "</table>\n",
       "</div>"
      ],
      "text/plain": [
       "    instance   nso (p)       so (p)  cost red (p)  em red (p)    nso (m)  \\\n",
       "0  19-21-3-2  6541.752  4971.400486      0.240051         NaN  7664.4165   \n",
       "\n",
       "        so (m)  cost red (m)  em red (p)    nso (c)       so (c)  \\\n",
       "0  6062.907685      0.208954         NaN  5898.5823  4405.181705   \n",
       "\n",
       "   cost red (c)  em red (p)  \n",
       "0       0.25318         NaN  "
      ]
     },
     "execution_count": 76,
     "metadata": {},
     "output_type": "execute_result"
    }
   ],
   "source": [
    "df = generate_speed_opt_df(nso_path, so_path)\n",
    "df"
   ]
  },
  {
   "cell_type": "code",
   "execution_count": null,
   "id": "16842089-c667-45f0-9477-ba87d03f5c1f",
   "metadata": {},
   "outputs": [],
   "source": []
  }
 ],
 "metadata": {
  "kernelspec": {
   "display_name": "venv",
   "language": "python",
   "name": "venv"
  },
  "language_info": {
   "codemirror_mode": {
    "name": "ipython",
    "version": 3
   },
   "file_extension": ".py",
   "mimetype": "text/x-python",
   "name": "python",
   "nbconvert_exporter": "python",
   "pygments_lexer": "ipython3",
   "version": "3.9.1"
  }
 },
 "nbformat": 4,
 "nbformat_minor": 5
}
